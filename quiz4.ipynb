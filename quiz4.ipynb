{
 "cells": [
  {
   "cell_type": "code",
   "execution_count": 2,
   "metadata": {},
   "outputs": [],
   "source": [
    "class MyDeque:\n",
    "    def __init__(self):\n",
    "        self.mydeque = []\n",
    "        self.func_name = {\"push_front\":self.push_front, \"push_back\":self.push_back, \"pop_front\":self.pop_front, \"pop_back\":self.pop_back, \n",
    "                     \"size\":self.size,\"empty\":self.empty, \"front\":self.front, \"back\": self.back}\n",
    "    def func(self,str):\n",
    "        func_input = str.split(\" \")\n",
    "        if(len(func_input) == 2): result = self.func_name[func_input[0]](func_input[1])\n",
    "        else: result = self.func_name[func_input[0]]()\n",
    "        print(func_input[0],\":\",result)\n",
    "\n",
    "    def push_front(self,x):\n",
    "        self.mydeque.insert(0,x)\n",
    "        return \"추가 완료\"\n",
    "   \n",
    "    def push_back(self,x):\n",
    "        self.mydeque.append(x)\n",
    "        return \"추가 완료\"\n",
    "\n",
    "    def pop_front(self):\n",
    "        if self.empty() == 1: return -1\n",
    "        else: return self.mydeque.pop(0)\n",
    "\n",
    "    def pop_back(self):\n",
    "        if self.empty() == 1: return -1\n",
    "        else: return self.mydeque.pop()\n",
    "\n",
    "    def empty(self):\n",
    "        if len(self.mydeque) == 0: return 1\n",
    "        else: return 0\n",
    "\n",
    "    def size(self):\n",
    "        return len(self.mydeque)\n",
    "\n",
    "    def front(self):\n",
    "        if self.empty() == 1: return -1\n",
    "        else: return self.mydeque[0]\n",
    "\n",
    "    def back(self):\n",
    "        if self.empty() == 1: return -1\n",
    "        else: return self.mydeque[len(self.mydeque)-1]\n",
    "\n",
    "    def __repr__(self):\n",
    "        return \"mydeque([{}])\".format(\",\".join(self.mydeque))\n",
    "    \n",
    "    def __str__(self):\n",
    "        return \"mydeque([{}])\".format(\",\".join(self.mydeque))"
   ]
  },
  {
   "cell_type": "code",
   "execution_count": 3,
   "metadata": {},
   "outputs": [
    {
     "name": "stdout",
     "output_type": "stream",
     "text": [
      "mydeque([])\n"
     ]
    }
   ],
   "source": [
    "mydeque = MyDeque()\n",
    "print(mydeque)"
   ]
  },
  {
   "cell_type": "code",
   "execution_count": 4,
   "metadata": {},
   "outputs": [
    {
     "name": "stdout",
     "output_type": "stream",
     "text": [
      "empty : 1\n"
     ]
    }
   ],
   "source": [
    "mydeque.func(\"empty\")"
   ]
  },
  {
   "cell_type": "code",
   "execution_count": 6,
   "metadata": {},
   "outputs": [
    {
     "name": "stdout",
     "output_type": "stream",
     "text": [
      "push_back : 추가 완료\n",
      "push_front : 추가 완료\n",
      "push_front : 추가 완료\n",
      "mydeque([3,2,1])\n"
     ]
    }
   ],
   "source": [
    "mydeque.func(\"push_back 1\")\n",
    "mydeque.func(\"push_front 2\")\n",
    "mydeque.func(\"push_front 3\")\n",
    "print(mydeque)"
   ]
  },
  {
   "cell_type": "code",
   "execution_count": 7,
   "metadata": {},
   "outputs": [
    {
     "name": "stdout",
     "output_type": "stream",
     "text": [
      "empty : 0\n",
      "size : 3\n",
      "pop_back : 1\n",
      "mydeque([3,2])\n"
     ]
    }
   ],
   "source": [
    "mydeque.func(\"empty\")\n",
    "mydeque.func(\"size\")\n",
    "mydeque.func(\"pop_back\")\n",
    "print(mydeque)"
   ]
  },
  {
   "cell_type": "code",
   "execution_count": 8,
   "metadata": {},
   "outputs": [
    {
     "name": "stdout",
     "output_type": "stream",
     "text": [
      "pop_front : 3\n",
      "mydeque([2])\n"
     ]
    }
   ],
   "source": [
    "mydeque.func(\"pop_front\")\n",
    "print(mydeque)"
   ]
  },
  {
   "cell_type": "code",
   "execution_count": 9,
   "metadata": {},
   "outputs": [
    {
     "name": "stdout",
     "output_type": "stream",
     "text": [
      "front : 2\n",
      "back : 2\n",
      "mydeque([2])\n"
     ]
    }
   ],
   "source": [
    "mydeque.func(\"front\")\n",
    "mydeque.func(\"back\")\n",
    "print(mydeque)"
   ]
  },
  {
   "cell_type": "code",
   "execution_count": null,
   "metadata": {},
   "outputs": [],
   "source": []
  }
 ],
 "metadata": {
  "kernelspec": {
   "display_name": "Python 3",
   "language": "python",
   "name": "python3"
  },
  "language_info": {
   "codemirror_mode": {
    "name": "ipython",
    "version": 3
   },
   "file_extension": ".py",
   "mimetype": "text/x-python",
   "name": "python",
   "nbconvert_exporter": "python",
   "pygments_lexer": "ipython3",
   "version": "3.8.3"
  }
 },
 "nbformat": 4,
 "nbformat_minor": 4
}
