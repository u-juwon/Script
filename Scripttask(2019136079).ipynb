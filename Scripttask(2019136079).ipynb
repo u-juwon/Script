{
 "cells": [
  {
   "cell_type": "markdown",
   "metadata": {},
   "source": [
    "Q1. 1000 ~ 9999 까지(1000과 9999도 계산에 포함)의 네 자리 숫자 가운데에 '10'을 포함하는 숫자의 갯수는?"
   ]
  },
  {
   "cell_type": "code",
   "execution_count": 13,
   "metadata": {},
   "outputs": [
    {
     "name": "stdout",
     "output_type": "stream",
     "text": [
      "1000~9999사이 중 '10'을 포함하는 숫자의 갯수: 279\n"
     ]
    }
   ],
   "source": [
    "count = 0\n",
    "\n",
    "for i in range(1000,10000,1):\n",
    "    if \"10\" in str(i):\n",
    "        count += 1\n",
    "        \n",
    "print(\"1000~9999사이 중 '10'을 포함하는 숫자의 갯수:\", count)"
   ]
  },
  {
   "cell_type": "markdown",
   "metadata": {},
   "source": [
    "Q2. 10 ~ 99999 까지(10과 99999도 계산에 포함)의 숫자 가운데에 20의 배수이며 '080'을 포함하는 숫자의 갯수는?"
   ]
  },
  {
   "cell_type": "code",
   "execution_count": 14,
   "metadata": {},
   "outputs": [
    {
     "name": "stdout",
     "output_type": "stream",
     "text": [
      "10~99999사이 중 20의 배수이며 '080'을 포함하는 숫자의 갯수: 108\n"
     ]
    }
   ],
   "source": [
    "count = 0\n",
    "\n",
    "for i in range(10,100000,1):\n",
    "    if i % 20 == 0:\n",
    "        if \"080\" in str(i):\n",
    "            count += 1\n",
    "            \n",
    "print(\"10~99999사이 중 20의 배수이며 '080'을 포함하는 숫자의 갯수:\", count)"
   ]
  },
  {
   "cell_type": "markdown",
   "metadata": {},
   "source": [
    "Q3.d = {'Hospital':0, 'PostOffice':1, 'Phamacy':2, 'School':3, 'Home':4, 'Convenience':5, 'DepartmentStore':6, 'BeautySalon':7, 'Lotteria':8}는 사전 자료형이며, 각 element의 key는 건물 이름을 의미하고 value는 아래 'map'에서 건물의 위치를 의미한다. '철수'는 매일 집에서 09:00에 나와서 정확히 30분마다 인접한 건물로 이동한다고 했을 때, 18:00에 'Hospital'에 있을 확률 p(0.0 <= p <= 1.0)는 얼마인가?\n",
    "'철수'는 30분마다 꼭 인접한 건물로 이동해야하며(같은 건물에 30분을 초과하여 체류할 수 없음) 대각선에 위치한 건물로는 이동할 수 없다고 가정한다.\n",
    "\n",
    "  -map-\t\n",
    "0\t1\t2\n",
    "3\t4\t5\n",
    "6\t7\t8"
   ]
  },
  {
   "cell_type": "code",
   "execution_count": 3,
   "metadata": {},
   "outputs": [
    {
     "name": "stdout",
     "output_type": "stream",
     "text": [
      "철수가 18시에 'hospital'에 있을 확률: 0.16666666666666666\n"
     ]
    }
   ],
   "source": [
    "def move(i, j, ch, count,test):\n",
    "    if ((i < 0 or i > 2) or (j < 0 or j > 2)):\n",
    "        return \n",
    "    if count >= 18:\n",
    "        if i == 0 and j == 0:\n",
    "             ch[0] += 1\n",
    "        ch[1] += 1\n",
    "        return \n",
    "    if ((i < 0 or i > 2) or (j < 0 or j > 2)):\n",
    "        return 0\n",
    "    move(i-1, j, ch, count+1, test)\n",
    "    move(i, j+1, ch, count+1, test)\n",
    "    move(i+1, j, ch, count+1, test)\n",
    "    move(i, j-1, ch, count+1, test)\n",
    "    return \n",
    "\n",
    "chance = [0,0]\n",
    "test=[]\n",
    "move(1, 1, chance, 0,test)\n",
    "print(\"철수가 18시에 'hospital'에 있을 확률:\", chance[0]/chance[1])\n"
   ]
  }
 ],
 "metadata": {
  "kernelspec": {
   "display_name": "Python 3",
   "language": "python",
   "name": "python3"
  },
  "language_info": {
   "codemirror_mode": {
    "name": "ipython",
    "version": 3
   },
   "file_extension": ".py",
   "mimetype": "text/x-python",
   "name": "python",
   "nbconvert_exporter": "python",
   "pygments_lexer": "ipython3",
   "version": "3.8.3"
  }
 },
 "nbformat": 4,
 "nbformat_minor": 4
}
