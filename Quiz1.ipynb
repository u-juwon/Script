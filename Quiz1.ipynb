{
 "cells": [
  {
   "cell_type": "code",
   "execution_count": 1,
   "metadata": {},
   "outputs": [
    {
     "name": "stdout",
     "output_type": "stream",
     "text": [
      "크기 입력:5\n",
      "=====\n",
      "숫자 입력:7\n",
      "숫자 입력:3 8\n",
      "숫자 입력:8 1 0\n",
      "숫자 입력:2 7 4 4\n",
      "숫자 입력:4 5 2 6 5\n",
      "=====\n",
      "최대 합: 30\n",
      "수행시간:0.000000초\n"
     ]
    }
   ],
   "source": [
    "import copy\n",
    "import time\n",
    "\n",
    "def find_max(size, in_triangle):\n",
    "    triangle = copy.deepcopy(in_triangle)\n",
    "    for i in range(size-1, 0, -1):\n",
    "        for j in range(len(triangle[i-1])):\n",
    "            if triangle[i][j] > triangle[i][j+1]: triangle[i-1][j] += triangle[i][j]\n",
    "            else: triangle[i-1][j] += triangle[i][j+1]\n",
    "        if i != 0: del(triangle[i])\n",
    "    return triangle[0][0]\n",
    "\n",
    "\n",
    "if __name__ == \"__main__\":\n",
    "    in_triangle = []\n",
    "    Size = int(input(\"크기 입력:\"))\n",
    "    print(\"=====\")\n",
    "    for i in range(Size):\n",
    "       numbers = input(\"숫자 입력:\")\n",
    "       line = list(map(int, numbers.split(' ')))\n",
    "       assert len(line) == i+1\n",
    "       in_triangle.append(line)\n",
    "    print(\"=====\")\n",
    "    start = time.time()\n",
    "    result = find_max(Size, in_triangle)\n",
    "    end = time.time()\n",
    "    print(\"최대 합:\", result)\n",
    "    print(\"수행시간:{0:3.6f}초\".format(end-start))"
   ]
  },
  {
   "cell_type": "code",
   "execution_count": null,
   "metadata": {},
   "outputs": [],
   "source": []
  }
 ],
 "metadata": {
  "kernelspec": {
   "display_name": "Python 3",
   "language": "python",
   "name": "python3"
  },
  "language_info": {
   "codemirror_mode": {
    "name": "ipython",
    "version": 3
   },
   "file_extension": ".py",
   "mimetype": "text/x-python",
   "name": "python",
   "nbconvert_exporter": "python",
   "pygments_lexer": "ipython3",
   "version": "3.8.3"
  }
 },
 "nbformat": 4,
 "nbformat_minor": 4
}
